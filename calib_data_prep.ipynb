{
 "cells": [
  {
   "cell_type": "code",
   "execution_count": null,
   "metadata": {},
   "outputs": [],
   "source": [
    "# basics\n",
    "import sys\n",
    "import time\n",
    "import datetime   # \n",
    "import re\n",
    "\n",
    "# load self-written func\n",
    "sys.path.append(\"func/\")      # add path \n",
    "import prompts\n",
    "\n",
    "# load env variables\n",
    "from dotenv import dotenv_values\n",
    "ENV_VAR = dotenv_values(\"../env/.env\")\n",
    "Gemini_key = ENV_VAR['Gemini_key']\n",
    "HF_key = ENV_VAR['HF_key']\n",
    "\n",
    "# DS\n",
    "import pandas as pd\n",
    "import numpy as np\n",
    "\n",
    "# LLM\n",
    "import google.generativeai as genai     # Gemini model"
   ]
  },
  {
   "cell_type": "code",
   "execution_count": 5,
   "metadata": {},
   "outputs": [
    {
     "name": "stdout",
     "output_type": "stream",
     "text": [
      "The token has not been saved to the git credentials helper. Pass `add_to_git_credential=True` in this function directly or `--add-to-git-credential` if using via `huggingface-cli` if you want to set the git credential as well.\n",
      "Token is valid (permission: write).\n",
      "Your token has been saved to C:\\Users\\user\\.cache\\huggingface\\token\n",
      "Login successful\n"
     ]
    }
   ],
   "source": [
    "# get credentials\n",
    "from huggingface_hub import login\n",
    "login(token=HF_key)\n",
    "genai.configure(api_key=Gemini_key)"
   ]
  },
  {
   "cell_type": "code",
   "execution_count": 6,
   "metadata": {},
   "outputs": [],
   "source": [
    "gemini = genai.GenerativeModel('gemini-pro')   # load Gemini model"
   ]
  },
  {
   "cell_type": "markdown",
   "metadata": {},
   "source": [
    "## Get prompt arguments\n",
    "* 30 types of conversation tone\n",
    "* 50 types of restaurants"
   ]
  },
  {
   "cell_type": "code",
   "execution_count": 14,
   "metadata": {},
   "outputs": [],
   "source": [
    "input_text = \"\"\"\n",
    "List 30 types of most common tone in conversation. Your response should have great variety and contain only the answer. Each tone should be separated by a new line\n",
    "\"\"\"\n",
    "generation_config = genai.GenerationConfig(temperature=1, top_k=32, top_p=0.3)\n",
    "tones_str = gemini.generate_content(input_text, generation_config=generation_config)"
   ]
  },
  {
   "cell_type": "code",
   "execution_count": null,
   "metadata": {},
   "outputs": [],
   "source": [
    "# re-format the output:\n",
    "tones = tones_str.text\n",
    "tones = tones.replace('- ', '')\n",
    "tones = tones.split('\\n')"
   ]
  },
  {
   "cell_type": "code",
   "execution_count": 18,
   "metadata": {},
   "outputs": [],
   "source": [
    "input_text = \"\"\"\n",
    "List 60 types of common restaurants. Your response should have great variety and contain only the answer. Each response should be separated by a new line\n",
    "\"\"\"\n",
    "food_str = gemini.generate_content(input_text)"
   ]
  },
  {
   "cell_type": "code",
   "execution_count": 1,
   "metadata": {},
   "outputs": [],
   "source": [
    "# re-format the output:\n",
    "food_types = food_str.text\n",
    "food_types = re.sub('\\d+\\.\\s', '', food_types)\n",
    "food_types = food_types.split('\\n')"
   ]
  },
  {
   "cell_type": "code",
   "execution_count": 7,
   "metadata": {},
   "outputs": [
    {
     "name": "stdout",
     "output_type": "stream",
     "text": [
      "\n",
      "\n",
      "I'm working on building a chatbot for restaurant recommendations. Can you assist me in generating training data in the following format? \n",
      "Please create 20 conversations, each must contain user input and model outputs, and encapsulated within a Python dictionary. All conversations should be wrapped up into a Python list.\n",
      "\n",
      "Ensure the conversations cover a variety of scenarios, preferences, and inquiries related to dining experiences, focusing on Brewery or Buffet restaurants.\n",
      "The tone of user input should be Aggressive, and the sentence structure in each example should be different, \n",
      "reflecting different users and their unique styles of communication.\n",
      "\n",
      "Remember to use double quotes (\"\") to enclose the text in the training data.\n",
      "\n",
      "Example format:\n",
      "\n",
      "[\n",
      "  {\n",
      "    \"user\": \"Hi there! Wondering if you can help me find a spot for a cozy dinner tonight.\",\n",
      "    \"AI assistant\": \"Of course! For a cozy dinner experience, I recommend [Restaurant Name]. They offer intimate ambiance and a menu filled with comforting dishes.\"\n",
      "  },\n",
      "  {\n",
      "    \"input\": \"Hey, I'm in the mood for something spicy and adventurous. Any ideas?\",\n",
      "    \"output\": \"Spicy and adventurous, huh? You'll love [Restaurant Name]. They specialize in bold flavors and exotic dishes that will tantalize your taste buds.\"\n",
      "  }\n",
      "]\n",
      "  \n"
     ]
    }
   ],
   "source": [
    "# show an example prompt for calibration\n",
    "input_text = prompts.restaurant_calib_data(tones[1], food_types[3:5])\n",
    "print(input_text)"
   ]
  },
  {
   "cell_type": "code",
   "execution_count": 12,
   "metadata": {},
   "outputs": [
    {
     "name": "stdout",
     "output_type": "stream",
     "text": [
      "0, Tone: Assertive, Food type: ['American', 'Barbecue']\n",
      "Accumulated time spent: 0.3292 minutes\n",
      "1, Tone: Aggressive, Food type: ['Breakfast', 'Brewery']\n",
      "Accumulated time spent: 0.6882 minutes\n",
      "2, Tone: Authoritative, Food type: ['Buffet', 'Burger joint']\n",
      "Accumulated time spent: 1.0274 minutes\n",
      "3, Tone: Calm, Food type: ['Cafe', 'Chinese']\n",
      "Accumulated time spent: 1.3316 minutes\n",
      "4, Tone: Commanding, Food type: ['Coffee shop', 'Creperie']\n",
      "Accumulated time spent: 1.6456 minutes\n",
      "5, Tone: Confident, Food type: ['Diner', 'Fast food']\n",
      "Accumulated time spent: 1.9313 minutes\n",
      "6, Tone: Conversational, Food type: ['Fine dining', 'Food truck']\n",
      "Accumulated time spent: 2.2476 minutes\n",
      "7, Tone: Critical, Food type: ['Gastropub', 'Greek']\n",
      "Accumulated time spent: 2.5385 minutes\n",
      "8, Tone: Cynical, Food type: ['Hamburger stand', 'Health food']\n",
      "Accumulated time spent: 2.9127 minutes\n",
      "9, Tone: Defensive, Food type: ['Hot dog stand', 'Indian']\n",
      "Accumulated time spent: 3.2936 minutes\n",
      "10, Tone: Demeaning, Food type: ['Italian', 'Japanese']\n",
      "Accumulated time spent: 3.6084 minutes\n",
      "11, Tone: Dismissive, Food type: ['Juice bar', 'Korean']\n",
      "Accumulated time spent: 3.8894 minutes\n",
      "12, Tone: Enthusiastic, Food type: ['Mediterranean', 'Mexican']\n",
      "Accumulated time spent: 4.2707 minutes\n",
      "13, Tone: Excited, Food type: ['Middle Eastern', 'Pizza parlor']\n",
      "Accumulated time spent: 4.5940 minutes\n",
      "14, Tone: Friendly, Food type: ['Pub', 'Ramen shop']\n",
      "Accumulated time spent: 4.9447 minutes\n",
      "15, Tone: Humorous, Food type: ['Sandwich shop', 'Seafood']\n",
      "Accumulated time spent: 5.3081 minutes\n",
      "16, Tone: Impersonal, Food type: ['Soul food', 'South American']\n",
      "Accumulated time spent: 5.6312 minutes\n",
      "17, Tone: Indifferent, Food type: ['Steakhouse', 'Sushi bar']\n",
      "Accumulated time spent: 5.9636 minutes\n",
      "18, Tone: Inquisitive, Food type: ['Taco shop', 'Tapas bar']\n",
      "Accumulated time spent: 6.2922 minutes\n",
      "19, Tone: Ironic, Food type: ['Tea house', 'Thai']\n",
      "Accumulated time spent: 6.6619 minutes\n",
      "20, Tone: Judgmental, Food type: ['Vegetarian', 'Vietnamese']\n",
      "Accumulated time spent: 6.9616 minutes\n",
      "21, Tone: Neutral, Food type: ['Wings joint', 'Bagel shop']\n",
      "Accumulated time spent: 7.2748 minutes\n",
      "22, Tone: Polite, Food type: ['Comfort food', 'Doughnut shop']\n",
      "Accumulated time spent: 7.6601 minutes\n",
      "23, Tone: Sarcastic, Food type: ['Family-style', 'Farm-to-table']\n",
      "Accumulated time spent: 7.9808 minutes\n",
      "24, Tone: Serious, Food type: ['Gluten-free', 'Ice cream parlor']\n",
      "Accumulated time spent: 8.3167 minutes\n",
      "25, Tone: Submissive, Food type: ['Lobster shack', 'Molecular gastronomy']\n",
      "Accumulated time spent: 8.6563 minutes\n",
      "26, Tone: Sympathetic, Food type: ['Pan-Asian', 'Plant-based']\n",
      "Accumulated time spent: 8.9765 minutes\n",
      "27, Tone: Understanding, Food type: ['Raw food', 'Vegan']\n",
      "Accumulated time spent: 9.3022 minutes\n",
      "28, Tone: Urgent, Food type: ['Waffle house', 'Winery']\n",
      "Accumulated time spent: 9.6255 minutes\n",
      "29, Tone: Poor English, Food type: ['Street food', 'Pop-up restaurant']\n",
      "Accumulated time spent: 9.9483 minutes\n"
     ]
    }
   ],
   "source": [
    "# get calibration data from Gemini:\n",
    "generation_config = genai.GenerationConfig(temperature=0.7, top_k=64)\n",
    "calib_data_raw = {}   # buffer to save Gemini output:\n",
    "i = 0\n",
    "err = 0\n",
    "start_time = time.time()\n",
    "while len(calib_data_raw) < 30:\n",
    "    tone = tones[i]\n",
    "    food_type = food_types[i*2:2*(i+1)]\n",
    "    try: \n",
    "        if tone not in calib_data_raw:\n",
    "            print(f\"{i}, Tone: {tone}, Food type: {str(food_type)}\")\n",
    "            input_text = prompts.restaurant_calib_data(tone=tone, food_type=food_type)\n",
    "            output = gemini.generate_content(input_text, generation_config=generation_config)\n",
    "            calib_data_raw[tone] = output.text   # save output\n",
    "            i += 1\n",
    "    except:   # may have internet error\n",
    "        err += 1\n",
    "        print(f\"{err} Internet error at: {i}\")\n",
    "    print(f\"Accumulated time spent: {(time.time() - start_time)/60:.4f} minutes\")"
   ]
  },
  {
   "cell_type": "code",
   "execution_count": 28,
   "metadata": {},
   "outputs": [],
   "source": [
    "# forat the output:\n",
    "chat_lst = []\n",
    "for key, val in calib_data_raw.items():\n",
    "    val = val.replace(\"```\", \"\")   # remove sep symbols\n",
    "    val = val.replace(\"python\", \"\")   # remove sep symbols\n",
    "    chat_split = val.split(' = ')\n",
    "    cur_lst = eval(chat_split[-1])\n",
    "    cur_lst = [{\"user_tone\": key, **item} for item in cur_lst]\n",
    "    chat_lst.extend(cur_lst)\n",
    "calib_data = pd.DataFrame(chat_lst)\n",
    "calib_data['user_input'] = np.where(calib_data['user'].isna(), calib_data['input'], calib_data['user'])\n",
    "calib_data['model_output'] = np.where(calib_data['AI assistant'].isna(), calib_data['output'], calib_data['AI assistant'])\n",
    "calib_data = calib_data[['user_tone', 'user_input', 'model_output']]\n",
    "# calib_data.isna().mean()\n",
    "now_timestamp = re.sub('(:|\\s|\\.)', '_', str(datetime.datetime.now()))\n",
    "calib_data.to_csv(f\"data/restaurant_chat_{now_timestamp}.csv\", index=False, encoding=\"utf-8-sig\")"
   ]
  },
  {
   "cell_type": "code",
   "execution_count": 64,
   "metadata": {},
   "outputs": [
    {
     "data": {
      "text/html": [
       "<div>\n",
       "<style scoped>\n",
       "    .dataframe tbody tr th:only-of-type {\n",
       "        vertical-align: middle;\n",
       "    }\n",
       "\n",
       "    .dataframe tbody tr th {\n",
       "        vertical-align: top;\n",
       "    }\n",
       "\n",
       "    .dataframe thead th {\n",
       "        text-align: right;\n",
       "    }\n",
       "</style>\n",
       "<table border=\"1\" class=\"dataframe\">\n",
       "  <thead>\n",
       "    <tr style=\"text-align: right;\">\n",
       "      <th></th>\n",
       "      <th>user_tone</th>\n",
       "      <th>user_input</th>\n",
       "      <th>model_output</th>\n",
       "    </tr>\n",
       "  </thead>\n",
       "  <tbody>\n",
       "    <tr>\n",
       "      <th>455</th>\n",
       "      <td>Sarcastic</td>\n",
       "      <td>I'm looking for a place that's both kid-friendly and has a great selection of craft beers.</td>\n",
       "      <td>Kid-friendly and craft beers? [Restaurant Name] fits the bill. They have a dedicated kids' menu and an impressive tap list featuring local brews.</td>\n",
       "    </tr>\n",
       "    <tr>\n",
       "      <th>52</th>\n",
       "      <td>Authoritative</td>\n",
       "      <td>Hi there, I'm in the mood for a buffet restaurant with a sushi bar.</td>\n",
       "      <td>Sushi lovers, unite! [Restaurant Name] combines a delectable buffet with a fully stocked sushi bar. Dive into a culinary adventure that will satisfy your cravings for both variety and freshness.</td>\n",
       "    </tr>\n",
       "    <tr>\n",
       "      <th>202</th>\n",
       "      <td>Demeaning</td>\n",
       "      <td>I'm in the mood for something healthy and light.</td>\n",
       "      <td>For a healthy and refreshing Japanese meal, try [Restaurant Name]. They offer a variety of light dishes such as sashimi, salads, and steamed entrees.</td>\n",
       "    </tr>\n",
       "    <tr>\n",
       "      <th>460</th>\n",
       "      <td>Sarcastic</td>\n",
       "      <td>I'm looking for a place that serves up mouthwatering burgers and fries.</td>\n",
       "      <td>Burgers and fries, you say? [Restaurant Name] is your burger heaven. Their patties are juicy, their fries are crispy, and their milkshakes are the perfect complement.</td>\n",
       "    </tr>\n",
       "    <tr>\n",
       "      <th>380</th>\n",
       "      <td>Ironic</td>\n",
       "      <td>I'm craving some Thai food that will make my taste buds dance.</td>\n",
       "      <td>Prepare for a culinary adventure at [Restaurant Name]. Their tantalizing dishes are a symphony of flavors that will awaken your senses and leave you craving more.</td>\n",
       "    </tr>\n",
       "  </tbody>\n",
       "</table>\n",
       "</div>"
      ],
      "text/plain": [
       "         user_tone  \\\n",
       "455      Sarcastic   \n",
       "52   Authoritative   \n",
       "202      Demeaning   \n",
       "460      Sarcastic   \n",
       "380         Ironic   \n",
       "\n",
       "                                                                                     user_input  \\\n",
       "455  I'm looking for a place that's both kid-friendly and has a great selection of craft beers.   \n",
       "52                          Hi there, I'm in the mood for a buffet restaurant with a sushi bar.   \n",
       "202                                            I'm in the mood for something healthy and light.   \n",
       "460                     I'm looking for a place that serves up mouthwatering burgers and fries.   \n",
       "380                              I'm craving some Thai food that will make my taste buds dance.   \n",
       "\n",
       "                                                                                                                                                                                           model_output  \n",
       "455                                                   Kid-friendly and craft beers? [Restaurant Name] fits the bill. They have a dedicated kids' menu and an impressive tap list featuring local brews.  \n",
       "52   Sushi lovers, unite! [Restaurant Name] combines a delectable buffet with a fully stocked sushi bar. Dive into a culinary adventure that will satisfy your cravings for both variety and freshness.  \n",
       "202                                               For a healthy and refreshing Japanese meal, try [Restaurant Name]. They offer a variety of light dishes such as sashimi, salads, and steamed entrees.  \n",
       "460                              Burgers and fries, you say? [Restaurant Name] is your burger heaven. Their patties are juicy, their fries are crispy, and their milkshakes are the perfect complement.  \n",
       "380                                  Prepare for a culinary adventure at [Restaurant Name]. Their tantalizing dishes are a symphony of flavors that will awaken your senses and leave you craving more.  "
      ]
     },
     "metadata": {},
     "output_type": "display_data"
    }
   ],
   "source": [
    "# display output:\n",
    "pd.set_option('display.max_colwidth', None)\n",
    "display(calib_data.sample(5))"
   ]
  },
  {
   "cell_type": "code",
   "execution_count": null,
   "metadata": {},
   "outputs": [],
   "source": [
    "# push data onto huggingface:\n",
    "from datasets import Dataset\n",
    "\n",
    "finetuning_dataset = Dataset.from_pandas(calib_data)\n",
    "finetuning_dataset.push_to_hub(\"tctsung/tctsung/chat_restaurant_recommendation\")"
   ]
  }
 ],
 "metadata": {
  "kernelspec": {
   "display_name": "base",
   "language": "python",
   "name": "python3"
  },
  "language_info": {
   "codemirror_mode": {
    "name": "ipython",
    "version": 3
   },
   "file_extension": ".py",
   "mimetype": "text/x-python",
   "name": "python",
   "nbconvert_exporter": "python",
   "pygments_lexer": "ipython3",
   "version": "3.11.9"
  }
 },
 "nbformat": 4,
 "nbformat_minor": 2
}
